{
 "cells": [
  {
   "cell_type": "markdown",
   "metadata": {},
   "source": [
    "## C# Journey "
   ]
  },
  {
   "cell_type": "markdown",
   "metadata": {},
   "source": [
    "### Class"
   ]
  },
  {
   "cell_type": "code",
   "execution_count": 28,
   "metadata": {
    "vscode": {
     "languageId": "csharp"
    }
   },
   "outputs": [
    {
     "name": "stdout",
     "output_type": "stream",
     "text": [
      "Velocity : 455\n"
     ]
    }
   ],
   "source": [
    "class Sonic{\n",
    "    int _velocity;\n",
    "    int velocity{\n",
    "        set{if(value>200)_velocity=value;}\n",
    "        get{return _velocity;}\n",
    "    }\n",
    "    public Sonic(int velocity){this._velocity=velocity;}\n",
    "    public Sonic(){this._velocity=200;}    \n",
    "    public void disp(){\n",
    "        Console.WriteLine($\"Velocity : {velocity}\");\n",
    "    } \n",
    "}\n",
    "\n",
    "Sonic v1 = new(455);\n",
    "v1.disp();"
   ]
  },
  {
   "cell_type": "code",
   "execution_count": 34,
   "metadata": {
    "vscode": {
     "languageId": "csharp"
    }
   },
   "outputs": [
    {
     "name": "stdout",
     "output_type": "stream",
     "text": [
      "SS\n"
     ]
    }
   ],
   "source": [
    "public void print(object a ){\n",
    "    Console.WriteLine(a);\n",
    "}\n",
    "print(\"SS\")"
   ]
  },
  {
   "cell_type": "markdown",
   "metadata": {},
   "source": [
    "### Delegates in C# "
   ]
  },
  {
   "cell_type": "markdown",
   "metadata": {},
   "source": [
    "- Delegate is type safe function pointer \n",
    "- Its hold reference of method and called method for execution \n",
    "- Delegate is a reference Type"
   ]
  },
  {
   "cell_type": "markdown",
   "metadata": {},
   "source": [
    "##### Delegate Defination\n",
    "modifiers delegate type NAME(PARAMETER LIST)\n"
   ]
  },
  {
   "cell_type": "code",
   "execution_count": 38,
   "metadata": {
    "vscode": {
     "languageId": "csharp"
    }
   },
   "outputs": [
    {
     "name": "stdout",
     "output_type": "stream",
     "text": [
      "addition = 895\n",
      "895\n",
      "addition = 150\n",
      "150\n",
      "addition = 17\n",
      "multiplication = 72\n",
      "addition = 12\n",
      "multiplication = 32\n",
      "32\n"
     ]
    }
   ],
   "source": [
    "public delegate int DelegateNum(int a, int b); \n",
    "\n",
    "public int AddNum(int a, int b){\n",
    "    print($\"addition = {a+b}\");\n",
    "    return a+b;\n",
    "}\n",
    "public int MulNum(int a, int b){\n",
    "    print($\"multiplication = {a*b}\");\n",
    "    return a*b;\n",
    "}\n",
    "\n",
    "int x = AddNum(5,890);\n",
    "Console.WriteLine(x);\n",
    "DelegateNum add = AddNum;\n",
    "int a  = add.Invoke(90,60);\n",
    "print(a);\n",
    "add+= MulNum;\n",
    "a = add.Invoke(9,8);\n",
    "print(add(4,8))"
   ]
  },
  {
   "cell_type": "markdown",
   "metadata": {},
   "source": [
    "### Anonymous Method"
   ]
  },
  {
   "cell_type": "code",
   "execution_count": 45,
   "metadata": {
    "vscode": {
     "languageId": "csharp"
    }
   },
   "outputs": [
    {
     "name": "stdout",
     "output_type": "stream",
     "text": [
      "NLLK\n"
     ]
    }
   ],
   "source": [
    "public delegate int Writer(object p);\n",
    "Writer w = delegate(object a){\n",
    "    Console.WriteLine(a);\n",
    "    return 0;\n",
    "};\n",
    "w(\"NLLK\");"
   ]
  },
  {
   "cell_type": "code",
   "execution_count": null,
   "metadata": {
    "vscode": {
     "languageId": "csharp"
    }
   },
   "outputs": [],
   "source": []
  }
 ],
 "metadata": {
  "kernelspec": {
   "display_name": ".NET (C#)",
   "language": "C#",
   "name": ".net-csharp"
  },
  "language_info": {
   "file_extension": ".cs",
   "mimetype": "text/x-csharp",
   "name": "C#",
   "pygments_lexer": "csharp",
   "version": "11.0"
  },
  "orig_nbformat": 4
 },
 "nbformat": 4,
 "nbformat_minor": 2
}
